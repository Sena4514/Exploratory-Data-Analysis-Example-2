{
 "cells": [
  {
   "cell_type": "markdown",
   "id": "faced-sense",
   "metadata": {
    "papermill": {
     "duration": 0.025376,
     "end_time": "2021-04-13T22:56:36.467529",
     "exception": false,
     "start_time": "2021-04-13T22:56:36.442153",
     "status": "completed"
    },
    "tags": []
   },
   "source": [
    "Gerekli kütüphaneleri yükleyelim."
   ]
  },
  {
   "cell_type": "code",
   "execution_count": 1,
   "id": "multiple-aspect",
   "metadata": {
    "execution": {
     "iopub.execute_input": "2021-04-13T22:56:36.521358Z",
     "iopub.status.busy": "2021-04-13T22:56:36.520175Z",
     "iopub.status.idle": "2021-04-13T22:56:37.619665Z",
     "shell.execute_reply": "2021-04-13T22:56:37.618889Z"
    },
    "papermill": {
     "duration": 1.127491,
     "end_time": "2021-04-13T22:56:37.619844",
     "exception": false,
     "start_time": "2021-04-13T22:56:36.492353",
     "status": "completed"
    },
    "tags": []
   },
   "outputs": [
    {
     "name": "stdout",
     "output_type": "stream",
     "text": [
      "['google-play-store-apps']\n"
     ]
    }
   ],
   "source": [
    "import numpy as np \n",
    "import pandas as pd \n",
    "import seaborn as sns\n",
    "import matplotlib.pyplot as plt\n",
    "\n",
    "# matplotlib icerisindeki pyplot isimli fonksiyonu import etmek istiyorum \n",
    "\n",
    "import os\n",
    "\n",
    "print(os.listdir(\"../input\"))"
   ]
  },
  {
   "cell_type": "markdown",
   "id": "eleven-violation",
   "metadata": {
    "papermill": {
     "duration": 0.025867,
     "end_time": "2021-04-13T22:56:37.671284",
     "exception": false,
     "start_time": "2021-04-13T22:56:37.645417",
     "status": "completed"
    },
    "tags": []
   },
   "source": [
    "Veri çerçevemizi bulunduğumuz dizinden yükleyelim ve bir veri çerçevesi haline getirerek df değişkenine atayalım. (pd.read_csv(...csv))"
   ]
  },
  {
   "cell_type": "code",
   "execution_count": 2,
   "id": "plastic-comedy",
   "metadata": {
    "execution": {
     "iopub.execute_input": "2021-04-13T22:56:37.726054Z",
     "iopub.status.busy": "2021-04-13T22:56:37.725423Z",
     "iopub.status.idle": "2021-04-13T22:56:37.852938Z",
     "shell.execute_reply": "2021-04-13T22:56:37.853473Z"
    },
    "papermill": {
     "duration": 0.1573,
     "end_time": "2021-04-13T22:56:37.853649",
     "exception": false,
     "start_time": "2021-04-13T22:56:37.696349",
     "status": "completed"
    },
    "tags": []
   },
   "outputs": [
    {
     "data": {
      "text/html": [
       "<div>\n",
       "<style scoped>\n",
       "    .dataframe tbody tr th:only-of-type {\n",
       "        vertical-align: middle;\n",
       "    }\n",
       "\n",
       "    .dataframe tbody tr th {\n",
       "        vertical-align: top;\n",
       "    }\n",
       "\n",
       "    .dataframe thead th {\n",
       "        text-align: right;\n",
       "    }\n",
       "</style>\n",
       "<table border=\"1\" class=\"dataframe\">\n",
       "  <thead>\n",
       "    <tr style=\"text-align: right;\">\n",
       "      <th></th>\n",
       "      <th>App</th>\n",
       "      <th>Category</th>\n",
       "      <th>Rating</th>\n",
       "      <th>Reviews</th>\n",
       "      <th>Size</th>\n",
       "      <th>Installs</th>\n",
       "      <th>Type</th>\n",
       "      <th>Price</th>\n",
       "      <th>Content Rating</th>\n",
       "      <th>Genres</th>\n",
       "      <th>Last Updated</th>\n",
       "      <th>Current Ver</th>\n",
       "      <th>Android Ver</th>\n",
       "    </tr>\n",
       "  </thead>\n",
       "  <tbody>\n",
       "    <tr>\n",
       "      <th>0</th>\n",
       "      <td>Photo Editor &amp; Candy Camera &amp; Grid &amp; ScrapBook</td>\n",
       "      <td>ART_AND_DESIGN</td>\n",
       "      <td>4.1</td>\n",
       "      <td>159</td>\n",
       "      <td>19M</td>\n",
       "      <td>10,000+</td>\n",
       "      <td>Free</td>\n",
       "      <td>0</td>\n",
       "      <td>Everyone</td>\n",
       "      <td>Art &amp; Design</td>\n",
       "      <td>January 7, 2018</td>\n",
       "      <td>1.0.0</td>\n",
       "      <td>4.0.3 and up</td>\n",
       "    </tr>\n",
       "    <tr>\n",
       "      <th>1</th>\n",
       "      <td>Coloring book moana</td>\n",
       "      <td>ART_AND_DESIGN</td>\n",
       "      <td>3.9</td>\n",
       "      <td>967</td>\n",
       "      <td>14M</td>\n",
       "      <td>500,000+</td>\n",
       "      <td>Free</td>\n",
       "      <td>0</td>\n",
       "      <td>Everyone</td>\n",
       "      <td>Art &amp; Design;Pretend Play</td>\n",
       "      <td>January 15, 2018</td>\n",
       "      <td>2.0.0</td>\n",
       "      <td>4.0.3 and up</td>\n",
       "    </tr>\n",
       "    <tr>\n",
       "      <th>2</th>\n",
       "      <td>U Launcher Lite – FREE Live Cool Themes, Hide ...</td>\n",
       "      <td>ART_AND_DESIGN</td>\n",
       "      <td>4.7</td>\n",
       "      <td>87510</td>\n",
       "      <td>8.7M</td>\n",
       "      <td>5,000,000+</td>\n",
       "      <td>Free</td>\n",
       "      <td>0</td>\n",
       "      <td>Everyone</td>\n",
       "      <td>Art &amp; Design</td>\n",
       "      <td>August 1, 2018</td>\n",
       "      <td>1.2.4</td>\n",
       "      <td>4.0.3 and up</td>\n",
       "    </tr>\n",
       "    <tr>\n",
       "      <th>3</th>\n",
       "      <td>Sketch - Draw &amp; Paint</td>\n",
       "      <td>ART_AND_DESIGN</td>\n",
       "      <td>4.5</td>\n",
       "      <td>215644</td>\n",
       "      <td>25M</td>\n",
       "      <td>50,000,000+</td>\n",
       "      <td>Free</td>\n",
       "      <td>0</td>\n",
       "      <td>Teen</td>\n",
       "      <td>Art &amp; Design</td>\n",
       "      <td>June 8, 2018</td>\n",
       "      <td>Varies with device</td>\n",
       "      <td>4.2 and up</td>\n",
       "    </tr>\n",
       "    <tr>\n",
       "      <th>4</th>\n",
       "      <td>Pixel Draw - Number Art Coloring Book</td>\n",
       "      <td>ART_AND_DESIGN</td>\n",
       "      <td>4.3</td>\n",
       "      <td>967</td>\n",
       "      <td>2.8M</td>\n",
       "      <td>100,000+</td>\n",
       "      <td>Free</td>\n",
       "      <td>0</td>\n",
       "      <td>Everyone</td>\n",
       "      <td>Art &amp; Design;Creativity</td>\n",
       "      <td>June 20, 2018</td>\n",
       "      <td>1.1</td>\n",
       "      <td>4.4 and up</td>\n",
       "    </tr>\n",
       "    <tr>\n",
       "      <th>...</th>\n",
       "      <td>...</td>\n",
       "      <td>...</td>\n",
       "      <td>...</td>\n",
       "      <td>...</td>\n",
       "      <td>...</td>\n",
       "      <td>...</td>\n",
       "      <td>...</td>\n",
       "      <td>...</td>\n",
       "      <td>...</td>\n",
       "      <td>...</td>\n",
       "      <td>...</td>\n",
       "      <td>...</td>\n",
       "      <td>...</td>\n",
       "    </tr>\n",
       "    <tr>\n",
       "      <th>10836</th>\n",
       "      <td>Sya9a Maroc - FR</td>\n",
       "      <td>FAMILY</td>\n",
       "      <td>4.5</td>\n",
       "      <td>38</td>\n",
       "      <td>53M</td>\n",
       "      <td>5,000+</td>\n",
       "      <td>Free</td>\n",
       "      <td>0</td>\n",
       "      <td>Everyone</td>\n",
       "      <td>Education</td>\n",
       "      <td>July 25, 2017</td>\n",
       "      <td>1.48</td>\n",
       "      <td>4.1 and up</td>\n",
       "    </tr>\n",
       "    <tr>\n",
       "      <th>10837</th>\n",
       "      <td>Fr. Mike Schmitz Audio Teachings</td>\n",
       "      <td>FAMILY</td>\n",
       "      <td>5.0</td>\n",
       "      <td>4</td>\n",
       "      <td>3.6M</td>\n",
       "      <td>100+</td>\n",
       "      <td>Free</td>\n",
       "      <td>0</td>\n",
       "      <td>Everyone</td>\n",
       "      <td>Education</td>\n",
       "      <td>July 6, 2018</td>\n",
       "      <td>1.0</td>\n",
       "      <td>4.1 and up</td>\n",
       "    </tr>\n",
       "    <tr>\n",
       "      <th>10838</th>\n",
       "      <td>Parkinson Exercices FR</td>\n",
       "      <td>MEDICAL</td>\n",
       "      <td>NaN</td>\n",
       "      <td>3</td>\n",
       "      <td>9.5M</td>\n",
       "      <td>1,000+</td>\n",
       "      <td>Free</td>\n",
       "      <td>0</td>\n",
       "      <td>Everyone</td>\n",
       "      <td>Medical</td>\n",
       "      <td>January 20, 2017</td>\n",
       "      <td>1.0</td>\n",
       "      <td>2.2 and up</td>\n",
       "    </tr>\n",
       "    <tr>\n",
       "      <th>10839</th>\n",
       "      <td>The SCP Foundation DB fr nn5n</td>\n",
       "      <td>BOOKS_AND_REFERENCE</td>\n",
       "      <td>4.5</td>\n",
       "      <td>114</td>\n",
       "      <td>Varies with device</td>\n",
       "      <td>1,000+</td>\n",
       "      <td>Free</td>\n",
       "      <td>0</td>\n",
       "      <td>Mature 17+</td>\n",
       "      <td>Books &amp; Reference</td>\n",
       "      <td>January 19, 2015</td>\n",
       "      <td>Varies with device</td>\n",
       "      <td>Varies with device</td>\n",
       "    </tr>\n",
       "    <tr>\n",
       "      <th>10840</th>\n",
       "      <td>iHoroscope - 2018 Daily Horoscope &amp; Astrology</td>\n",
       "      <td>LIFESTYLE</td>\n",
       "      <td>4.5</td>\n",
       "      <td>398307</td>\n",
       "      <td>19M</td>\n",
       "      <td>10,000,000+</td>\n",
       "      <td>Free</td>\n",
       "      <td>0</td>\n",
       "      <td>Everyone</td>\n",
       "      <td>Lifestyle</td>\n",
       "      <td>July 25, 2018</td>\n",
       "      <td>Varies with device</td>\n",
       "      <td>Varies with device</td>\n",
       "    </tr>\n",
       "  </tbody>\n",
       "</table>\n",
       "<p>10841 rows × 13 columns</p>\n",
       "</div>"
      ],
      "text/plain": [
       "                                                     App             Category  \\\n",
       "0         Photo Editor & Candy Camera & Grid & ScrapBook       ART_AND_DESIGN   \n",
       "1                                    Coloring book moana       ART_AND_DESIGN   \n",
       "2      U Launcher Lite – FREE Live Cool Themes, Hide ...       ART_AND_DESIGN   \n",
       "3                                  Sketch - Draw & Paint       ART_AND_DESIGN   \n",
       "4                  Pixel Draw - Number Art Coloring Book       ART_AND_DESIGN   \n",
       "...                                                  ...                  ...   \n",
       "10836                                   Sya9a Maroc - FR               FAMILY   \n",
       "10837                   Fr. Mike Schmitz Audio Teachings               FAMILY   \n",
       "10838                             Parkinson Exercices FR              MEDICAL   \n",
       "10839                      The SCP Foundation DB fr nn5n  BOOKS_AND_REFERENCE   \n",
       "10840      iHoroscope - 2018 Daily Horoscope & Astrology            LIFESTYLE   \n",
       "\n",
       "       Rating Reviews                Size     Installs  Type Price  \\\n",
       "0         4.1     159                 19M      10,000+  Free     0   \n",
       "1         3.9     967                 14M     500,000+  Free     0   \n",
       "2         4.7   87510                8.7M   5,000,000+  Free     0   \n",
       "3         4.5  215644                 25M  50,000,000+  Free     0   \n",
       "4         4.3     967                2.8M     100,000+  Free     0   \n",
       "...       ...     ...                 ...          ...   ...   ...   \n",
       "10836     4.5      38                 53M       5,000+  Free     0   \n",
       "10837     5.0       4                3.6M         100+  Free     0   \n",
       "10838     NaN       3                9.5M       1,000+  Free     0   \n",
       "10839     4.5     114  Varies with device       1,000+  Free     0   \n",
       "10840     4.5  398307                 19M  10,000,000+  Free     0   \n",
       "\n",
       "      Content Rating                     Genres      Last Updated  \\\n",
       "0           Everyone               Art & Design   January 7, 2018   \n",
       "1           Everyone  Art & Design;Pretend Play  January 15, 2018   \n",
       "2           Everyone               Art & Design    August 1, 2018   \n",
       "3               Teen               Art & Design      June 8, 2018   \n",
       "4           Everyone    Art & Design;Creativity     June 20, 2018   \n",
       "...              ...                        ...               ...   \n",
       "10836       Everyone                  Education     July 25, 2017   \n",
       "10837       Everyone                  Education      July 6, 2018   \n",
       "10838       Everyone                    Medical  January 20, 2017   \n",
       "10839     Mature 17+          Books & Reference  January 19, 2015   \n",
       "10840       Everyone                  Lifestyle     July 25, 2018   \n",
       "\n",
       "              Current Ver         Android Ver  \n",
       "0                   1.0.0        4.0.3 and up  \n",
       "1                   2.0.0        4.0.3 and up  \n",
       "2                   1.2.4        4.0.3 and up  \n",
       "3      Varies with device          4.2 and up  \n",
       "4                     1.1          4.4 and up  \n",
       "...                   ...                 ...  \n",
       "10836                1.48          4.1 and up  \n",
       "10837                 1.0          4.1 and up  \n",
       "10838                 1.0          2.2 and up  \n",
       "10839  Varies with device  Varies with device  \n",
       "10840  Varies with device  Varies with device  \n",
       "\n",
       "[10841 rows x 13 columns]"
      ]
     },
     "execution_count": 2,
     "metadata": {},
     "output_type": "execute_result"
    }
   ],
   "source": [
    "df = pd.read_csv('../input/google-play-store-apps/googleplaystore.csv')\n",
    "df"
   ]
  },
  {
   "cell_type": "markdown",
   "id": "sustained-verse",
   "metadata": {
    "papermill": {
     "duration": 0.025808,
     "end_time": "2021-04-13T22:56:37.905233",
     "exception": false,
     "start_time": "2021-04-13T22:56:37.879425",
     "status": "completed"
    },
    "tags": []
   },
   "source": [
    "Veri çerçevesinin ilk 5 gözlemini görüntüleyelim.\n",
    "\n"
   ]
  },
  {
   "cell_type": "code",
   "execution_count": 3,
   "id": "studied-deadline",
   "metadata": {
    "execution": {
     "iopub.execute_input": "2021-04-13T22:56:37.976767Z",
     "iopub.status.busy": "2021-04-13T22:56:37.976071Z",
     "iopub.status.idle": "2021-04-13T22:56:37.980147Z",
     "shell.execute_reply": "2021-04-13T22:56:37.979608Z"
    },
    "papermill": {
     "duration": 0.048984,
     "end_time": "2021-04-13T22:56:37.980302",
     "exception": false,
     "start_time": "2021-04-13T22:56:37.931318",
     "status": "completed"
    },
    "tags": []
   },
   "outputs": [
    {
     "data": {
      "text/html": [
       "<div>\n",
       "<style scoped>\n",
       "    .dataframe tbody tr th:only-of-type {\n",
       "        vertical-align: middle;\n",
       "    }\n",
       "\n",
       "    .dataframe tbody tr th {\n",
       "        vertical-align: top;\n",
       "    }\n",
       "\n",
       "    .dataframe thead th {\n",
       "        text-align: right;\n",
       "    }\n",
       "</style>\n",
       "<table border=\"1\" class=\"dataframe\">\n",
       "  <thead>\n",
       "    <tr style=\"text-align: right;\">\n",
       "      <th></th>\n",
       "      <th>App</th>\n",
       "      <th>Category</th>\n",
       "      <th>Rating</th>\n",
       "      <th>Reviews</th>\n",
       "      <th>Size</th>\n",
       "      <th>Installs</th>\n",
       "      <th>Type</th>\n",
       "      <th>Price</th>\n",
       "      <th>Content Rating</th>\n",
       "      <th>Genres</th>\n",
       "      <th>Last Updated</th>\n",
       "      <th>Current Ver</th>\n",
       "      <th>Android Ver</th>\n",
       "    </tr>\n",
       "  </thead>\n",
       "  <tbody>\n",
       "    <tr>\n",
       "      <th>0</th>\n",
       "      <td>Photo Editor &amp; Candy Camera &amp; Grid &amp; ScrapBook</td>\n",
       "      <td>ART_AND_DESIGN</td>\n",
       "      <td>4.1</td>\n",
       "      <td>159</td>\n",
       "      <td>19M</td>\n",
       "      <td>10,000+</td>\n",
       "      <td>Free</td>\n",
       "      <td>0</td>\n",
       "      <td>Everyone</td>\n",
       "      <td>Art &amp; Design</td>\n",
       "      <td>January 7, 2018</td>\n",
       "      <td>1.0.0</td>\n",
       "      <td>4.0.3 and up</td>\n",
       "    </tr>\n",
       "    <tr>\n",
       "      <th>1</th>\n",
       "      <td>Coloring book moana</td>\n",
       "      <td>ART_AND_DESIGN</td>\n",
       "      <td>3.9</td>\n",
       "      <td>967</td>\n",
       "      <td>14M</td>\n",
       "      <td>500,000+</td>\n",
       "      <td>Free</td>\n",
       "      <td>0</td>\n",
       "      <td>Everyone</td>\n",
       "      <td>Art &amp; Design;Pretend Play</td>\n",
       "      <td>January 15, 2018</td>\n",
       "      <td>2.0.0</td>\n",
       "      <td>4.0.3 and up</td>\n",
       "    </tr>\n",
       "    <tr>\n",
       "      <th>2</th>\n",
       "      <td>U Launcher Lite – FREE Live Cool Themes, Hide ...</td>\n",
       "      <td>ART_AND_DESIGN</td>\n",
       "      <td>4.7</td>\n",
       "      <td>87510</td>\n",
       "      <td>8.7M</td>\n",
       "      <td>5,000,000+</td>\n",
       "      <td>Free</td>\n",
       "      <td>0</td>\n",
       "      <td>Everyone</td>\n",
       "      <td>Art &amp; Design</td>\n",
       "      <td>August 1, 2018</td>\n",
       "      <td>1.2.4</td>\n",
       "      <td>4.0.3 and up</td>\n",
       "    </tr>\n",
       "    <tr>\n",
       "      <th>3</th>\n",
       "      <td>Sketch - Draw &amp; Paint</td>\n",
       "      <td>ART_AND_DESIGN</td>\n",
       "      <td>4.5</td>\n",
       "      <td>215644</td>\n",
       "      <td>25M</td>\n",
       "      <td>50,000,000+</td>\n",
       "      <td>Free</td>\n",
       "      <td>0</td>\n",
       "      <td>Teen</td>\n",
       "      <td>Art &amp; Design</td>\n",
       "      <td>June 8, 2018</td>\n",
       "      <td>Varies with device</td>\n",
       "      <td>4.2 and up</td>\n",
       "    </tr>\n",
       "    <tr>\n",
       "      <th>4</th>\n",
       "      <td>Pixel Draw - Number Art Coloring Book</td>\n",
       "      <td>ART_AND_DESIGN</td>\n",
       "      <td>4.3</td>\n",
       "      <td>967</td>\n",
       "      <td>2.8M</td>\n",
       "      <td>100,000+</td>\n",
       "      <td>Free</td>\n",
       "      <td>0</td>\n",
       "      <td>Everyone</td>\n",
       "      <td>Art &amp; Design;Creativity</td>\n",
       "      <td>June 20, 2018</td>\n",
       "      <td>1.1</td>\n",
       "      <td>4.4 and up</td>\n",
       "    </tr>\n",
       "  </tbody>\n",
       "</table>\n",
       "</div>"
      ],
      "text/plain": [
       "                                                 App        Category  Rating  \\\n",
       "0     Photo Editor & Candy Camera & Grid & ScrapBook  ART_AND_DESIGN     4.1   \n",
       "1                                Coloring book moana  ART_AND_DESIGN     3.9   \n",
       "2  U Launcher Lite – FREE Live Cool Themes, Hide ...  ART_AND_DESIGN     4.7   \n",
       "3                              Sketch - Draw & Paint  ART_AND_DESIGN     4.5   \n",
       "4              Pixel Draw - Number Art Coloring Book  ART_AND_DESIGN     4.3   \n",
       "\n",
       "  Reviews  Size     Installs  Type Price Content Rating  \\\n",
       "0     159   19M      10,000+  Free     0       Everyone   \n",
       "1     967   14M     500,000+  Free     0       Everyone   \n",
       "2   87510  8.7M   5,000,000+  Free     0       Everyone   \n",
       "3  215644   25M  50,000,000+  Free     0           Teen   \n",
       "4     967  2.8M     100,000+  Free     0       Everyone   \n",
       "\n",
       "                      Genres      Last Updated         Current Ver  \\\n",
       "0               Art & Design   January 7, 2018               1.0.0   \n",
       "1  Art & Design;Pretend Play  January 15, 2018               2.0.0   \n",
       "2               Art & Design    August 1, 2018               1.2.4   \n",
       "3               Art & Design      June 8, 2018  Varies with device   \n",
       "4    Art & Design;Creativity     June 20, 2018                 1.1   \n",
       "\n",
       "    Android Ver  \n",
       "0  4.0.3 and up  \n",
       "1  4.0.3 and up  \n",
       "2  4.0.3 and up  \n",
       "3    4.2 and up  \n",
       "4    4.4 and up  "
      ]
     },
     "execution_count": 3,
     "metadata": {},
     "output_type": "execute_result"
    }
   ],
   "source": [
    "df.head()"
   ]
  },
  {
   "cell_type": "markdown",
   "id": "circular-queue",
   "metadata": {
    "papermill": {
     "duration": 0.026264,
     "end_time": "2021-04-13T22:56:38.033404",
     "exception": false,
     "start_time": "2021-04-13T22:56:38.007140",
     "status": "completed"
    },
    "tags": []
   },
   "source": [
    "Veri çerçevesinin son 5 gözlemini görüntüleyelim."
   ]
  },
  {
   "cell_type": "code",
   "execution_count": 4,
   "id": "pointed-smart",
   "metadata": {
    "execution": {
     "iopub.execute_input": "2021-04-13T22:56:38.089876Z",
     "iopub.status.busy": "2021-04-13T22:56:38.089177Z",
     "iopub.status.idle": "2021-04-13T22:56:38.107912Z",
     "shell.execute_reply": "2021-04-13T22:56:38.107389Z"
    },
    "papermill": {
     "duration": 0.047946,
     "end_time": "2021-04-13T22:56:38.108054",
     "exception": false,
     "start_time": "2021-04-13T22:56:38.060108",
     "status": "completed"
    },
    "tags": []
   },
   "outputs": [
    {
     "data": {
      "text/html": [
       "<div>\n",
       "<style scoped>\n",
       "    .dataframe tbody tr th:only-of-type {\n",
       "        vertical-align: middle;\n",
       "    }\n",
       "\n",
       "    .dataframe tbody tr th {\n",
       "        vertical-align: top;\n",
       "    }\n",
       "\n",
       "    .dataframe thead th {\n",
       "        text-align: right;\n",
       "    }\n",
       "</style>\n",
       "<table border=\"1\" class=\"dataframe\">\n",
       "  <thead>\n",
       "    <tr style=\"text-align: right;\">\n",
       "      <th></th>\n",
       "      <th>App</th>\n",
       "      <th>Category</th>\n",
       "      <th>Rating</th>\n",
       "      <th>Reviews</th>\n",
       "      <th>Size</th>\n",
       "      <th>Installs</th>\n",
       "      <th>Type</th>\n",
       "      <th>Price</th>\n",
       "      <th>Content Rating</th>\n",
       "      <th>Genres</th>\n",
       "      <th>Last Updated</th>\n",
       "      <th>Current Ver</th>\n",
       "      <th>Android Ver</th>\n",
       "    </tr>\n",
       "  </thead>\n",
       "  <tbody>\n",
       "    <tr>\n",
       "      <th>10836</th>\n",
       "      <td>Sya9a Maroc - FR</td>\n",
       "      <td>FAMILY</td>\n",
       "      <td>4.5</td>\n",
       "      <td>38</td>\n",
       "      <td>53M</td>\n",
       "      <td>5,000+</td>\n",
       "      <td>Free</td>\n",
       "      <td>0</td>\n",
       "      <td>Everyone</td>\n",
       "      <td>Education</td>\n",
       "      <td>July 25, 2017</td>\n",
       "      <td>1.48</td>\n",
       "      <td>4.1 and up</td>\n",
       "    </tr>\n",
       "    <tr>\n",
       "      <th>10837</th>\n",
       "      <td>Fr. Mike Schmitz Audio Teachings</td>\n",
       "      <td>FAMILY</td>\n",
       "      <td>5.0</td>\n",
       "      <td>4</td>\n",
       "      <td>3.6M</td>\n",
       "      <td>100+</td>\n",
       "      <td>Free</td>\n",
       "      <td>0</td>\n",
       "      <td>Everyone</td>\n",
       "      <td>Education</td>\n",
       "      <td>July 6, 2018</td>\n",
       "      <td>1.0</td>\n",
       "      <td>4.1 and up</td>\n",
       "    </tr>\n",
       "    <tr>\n",
       "      <th>10838</th>\n",
       "      <td>Parkinson Exercices FR</td>\n",
       "      <td>MEDICAL</td>\n",
       "      <td>NaN</td>\n",
       "      <td>3</td>\n",
       "      <td>9.5M</td>\n",
       "      <td>1,000+</td>\n",
       "      <td>Free</td>\n",
       "      <td>0</td>\n",
       "      <td>Everyone</td>\n",
       "      <td>Medical</td>\n",
       "      <td>January 20, 2017</td>\n",
       "      <td>1.0</td>\n",
       "      <td>2.2 and up</td>\n",
       "    </tr>\n",
       "    <tr>\n",
       "      <th>10839</th>\n",
       "      <td>The SCP Foundation DB fr nn5n</td>\n",
       "      <td>BOOKS_AND_REFERENCE</td>\n",
       "      <td>4.5</td>\n",
       "      <td>114</td>\n",
       "      <td>Varies with device</td>\n",
       "      <td>1,000+</td>\n",
       "      <td>Free</td>\n",
       "      <td>0</td>\n",
       "      <td>Mature 17+</td>\n",
       "      <td>Books &amp; Reference</td>\n",
       "      <td>January 19, 2015</td>\n",
       "      <td>Varies with device</td>\n",
       "      <td>Varies with device</td>\n",
       "    </tr>\n",
       "    <tr>\n",
       "      <th>10840</th>\n",
       "      <td>iHoroscope - 2018 Daily Horoscope &amp; Astrology</td>\n",
       "      <td>LIFESTYLE</td>\n",
       "      <td>4.5</td>\n",
       "      <td>398307</td>\n",
       "      <td>19M</td>\n",
       "      <td>10,000,000+</td>\n",
       "      <td>Free</td>\n",
       "      <td>0</td>\n",
       "      <td>Everyone</td>\n",
       "      <td>Lifestyle</td>\n",
       "      <td>July 25, 2018</td>\n",
       "      <td>Varies with device</td>\n",
       "      <td>Varies with device</td>\n",
       "    </tr>\n",
       "  </tbody>\n",
       "</table>\n",
       "</div>"
      ],
      "text/plain": [
       "                                                 App             Category  \\\n",
       "10836                               Sya9a Maroc - FR               FAMILY   \n",
       "10837               Fr. Mike Schmitz Audio Teachings               FAMILY   \n",
       "10838                         Parkinson Exercices FR              MEDICAL   \n",
       "10839                  The SCP Foundation DB fr nn5n  BOOKS_AND_REFERENCE   \n",
       "10840  iHoroscope - 2018 Daily Horoscope & Astrology            LIFESTYLE   \n",
       "\n",
       "       Rating Reviews                Size     Installs  Type Price  \\\n",
       "10836     4.5      38                 53M       5,000+  Free     0   \n",
       "10837     5.0       4                3.6M         100+  Free     0   \n",
       "10838     NaN       3                9.5M       1,000+  Free     0   \n",
       "10839     4.5     114  Varies with device       1,000+  Free     0   \n",
       "10840     4.5  398307                 19M  10,000,000+  Free     0   \n",
       "\n",
       "      Content Rating             Genres      Last Updated         Current Ver  \\\n",
       "10836       Everyone          Education     July 25, 2017                1.48   \n",
       "10837       Everyone          Education      July 6, 2018                 1.0   \n",
       "10838       Everyone            Medical  January 20, 2017                 1.0   \n",
       "10839     Mature 17+  Books & Reference  January 19, 2015  Varies with device   \n",
       "10840       Everyone          Lifestyle     July 25, 2018  Varies with device   \n",
       "\n",
       "              Android Ver  \n",
       "10836          4.1 and up  \n",
       "10837          4.1 and up  \n",
       "10838          2.2 and up  \n",
       "10839  Varies with device  \n",
       "10840  Varies with device  "
      ]
     },
     "execution_count": 4,
     "metadata": {},
     "output_type": "execute_result"
    }
   ],
   "source": [
    "df.tail()"
   ]
  },
  {
   "cell_type": "markdown",
   "id": "engaging-northern",
   "metadata": {
    "papermill": {
     "duration": 0.030223,
     "end_time": "2021-04-13T22:56:38.166918",
     "exception": false,
     "start_time": "2021-04-13T22:56:38.136695",
     "status": "completed"
    },
    "tags": []
   },
   "source": [
    "Veri çerçevesinin kaç öznitelik ve kaç gözlemden oluştuğunu görüntüleyelim."
   ]
  },
  {
   "cell_type": "code",
   "execution_count": 5,
   "id": "stainless-might",
   "metadata": {
    "execution": {
     "iopub.execute_input": "2021-04-13T22:56:38.227436Z",
     "iopub.status.busy": "2021-04-13T22:56:38.226729Z",
     "iopub.status.idle": "2021-04-13T22:56:38.230498Z",
     "shell.execute_reply": "2021-04-13T22:56:38.231064Z"
    },
    "papermill": {
     "duration": 0.036761,
     "end_time": "2021-04-13T22:56:38.231272",
     "exception": false,
     "start_time": "2021-04-13T22:56:38.194511",
     "status": "completed"
    },
    "tags": []
   },
   "outputs": [
    {
     "data": {
      "text/plain": [
       "(10841, 13)"
      ]
     },
     "execution_count": 5,
     "metadata": {},
     "output_type": "execute_result"
    }
   ],
   "source": [
    "df.shape\n",
    "# 10841 gozlem ve 13 degiskenden olusuyor"
   ]
  },
  {
   "cell_type": "markdown",
   "id": "involved-cause",
   "metadata": {
    "papermill": {
     "duration": 0.027391,
     "end_time": "2021-04-13T22:56:38.286898",
     "exception": false,
     "start_time": "2021-04-13T22:56:38.259507",
     "status": "completed"
    },
    "tags": []
   },
   "source": [
    "Veri çerçevesindeki değişkenlerin hangi tipte olduğunu ve bellek kullanımını görüntüleyelim."
   ]
  },
  {
   "cell_type": "code",
   "execution_count": 6,
   "id": "affected-broadway",
   "metadata": {
    "execution": {
     "iopub.execute_input": "2021-04-13T22:56:38.345970Z",
     "iopub.status.busy": "2021-04-13T22:56:38.345299Z",
     "iopub.status.idle": "2021-04-13T22:56:38.381488Z",
     "shell.execute_reply": "2021-04-13T22:56:38.380773Z"
    },
    "papermill": {
     "duration": 0.066812,
     "end_time": "2021-04-13T22:56:38.381636",
     "exception": false,
     "start_time": "2021-04-13T22:56:38.314824",
     "status": "completed"
    },
    "tags": []
   },
   "outputs": [
    {
     "name": "stdout",
     "output_type": "stream",
     "text": [
      "<class 'pandas.core.frame.DataFrame'>\n",
      "RangeIndex: 10841 entries, 0 to 10840\n",
      "Data columns (total 13 columns):\n",
      " #   Column          Non-Null Count  Dtype  \n",
      "---  ------          --------------  -----  \n",
      " 0   App             10841 non-null  object \n",
      " 1   Category        10841 non-null  object \n",
      " 2   Rating          9367 non-null   float64\n",
      " 3   Reviews         10841 non-null  object \n",
      " 4   Size            10841 non-null  object \n",
      " 5   Installs        10841 non-null  object \n",
      " 6   Type            10840 non-null  object \n",
      " 7   Price           10841 non-null  object \n",
      " 8   Content Rating  10840 non-null  object \n",
      " 9   Genres          10841 non-null  object \n",
      " 10  Last Updated    10841 non-null  object \n",
      " 11  Current Ver     10833 non-null  object \n",
      " 12  Android Ver     10838 non-null  object \n",
      "dtypes: float64(1), object(12)\n",
      "memory usage: 1.1+ MB\n"
     ]
    }
   ],
   "source": [
    "df.info()\n",
    "# burada veri setinin yapisal bilgilerini ogrenmek icin info fonk. kullanildi"
   ]
  },
  {
   "cell_type": "markdown",
   "id": "complicated-cathedral",
   "metadata": {
    "papermill": {
     "duration": 0.028946,
     "end_time": "2021-04-13T22:56:38.438941",
     "exception": false,
     "start_time": "2021-04-13T22:56:38.409995",
     "status": "completed"
    },
    "tags": []
   },
   "source": [
    "Veri çerçevesindeki sayısal değişken için temel istatistik değerlerini görüntüleyelim.\n",
    "\n",
    "Standart sapma ve ortalama değerden çıkarımda bulunarak değişkenin ne kadar varyansa sahip olduğu hakkında fikir yürütelim."
   ]
  },
  {
   "cell_type": "code",
   "execution_count": 7,
   "id": "invisible-genius",
   "metadata": {
    "execution": {
     "iopub.execute_input": "2021-04-13T22:56:38.502902Z",
     "iopub.status.busy": "2021-04-13T22:56:38.502138Z",
     "iopub.status.idle": "2021-04-13T22:56:38.520935Z",
     "shell.execute_reply": "2021-04-13T22:56:38.520290Z"
    },
    "papermill": {
     "duration": 0.054093,
     "end_time": "2021-04-13T22:56:38.521071",
     "exception": false,
     "start_time": "2021-04-13T22:56:38.466978",
     "status": "completed"
    },
    "tags": []
   },
   "outputs": [
    {
     "data": {
      "text/html": [
       "<div>\n",
       "<style scoped>\n",
       "    .dataframe tbody tr th:only-of-type {\n",
       "        vertical-align: middle;\n",
       "    }\n",
       "\n",
       "    .dataframe tbody tr th {\n",
       "        vertical-align: top;\n",
       "    }\n",
       "\n",
       "    .dataframe thead th {\n",
       "        text-align: right;\n",
       "    }\n",
       "</style>\n",
       "<table border=\"1\" class=\"dataframe\">\n",
       "  <thead>\n",
       "    <tr style=\"text-align: right;\">\n",
       "      <th></th>\n",
       "      <th>count</th>\n",
       "      <th>mean</th>\n",
       "      <th>std</th>\n",
       "      <th>min</th>\n",
       "      <th>25%</th>\n",
       "      <th>50%</th>\n",
       "      <th>75%</th>\n",
       "      <th>max</th>\n",
       "    </tr>\n",
       "  </thead>\n",
       "  <tbody>\n",
       "    <tr>\n",
       "      <th>Rating</th>\n",
       "      <td>9367.0</td>\n",
       "      <td>4.193338</td>\n",
       "      <td>0.537431</td>\n",
       "      <td>1.0</td>\n",
       "      <td>4.0</td>\n",
       "      <td>4.3</td>\n",
       "      <td>4.5</td>\n",
       "      <td>19.0</td>\n",
       "    </tr>\n",
       "  </tbody>\n",
       "</table>\n",
       "</div>"
      ],
      "text/plain": [
       "         count      mean       std  min  25%  50%  75%   max\n",
       "Rating  9367.0  4.193338  0.537431  1.0  4.0  4.3  4.5  19.0"
      ]
     },
     "execution_count": 7,
     "metadata": {},
     "output_type": "execute_result"
    }
   ],
   "source": [
    "df.describe().T\n",
    "# veri setimiz icerisindeki tum degiskenlerin betimsel istatistiklerini ogrenmis olduk\n",
    "# buradaki bilgiler sayesinde veriden anlam cikarma durumunu gerceklestirebiliyoruz\n",
    "\n",
    "# varyans standart sapmanin karesidir.. Bu değişkenin varyansı std^2=0.2888320798 olur."
   ]
  },
  {
   "cell_type": "markdown",
   "id": "adopted-transport",
   "metadata": {
    "papermill": {
     "duration": 0.028241,
     "end_time": "2021-04-13T22:56:38.577959",
     "exception": false,
     "start_time": "2021-04-13T22:56:38.549718",
     "status": "completed"
    },
    "tags": []
   },
   "source": [
    "Veri çerçevesinde hangi öznitelikte kaç adet eksik değer olduğunu gözlemleyelim."
   ]
  },
  {
   "cell_type": "code",
   "execution_count": 8,
   "id": "tested-renaissance",
   "metadata": {
    "execution": {
     "iopub.execute_input": "2021-04-13T22:56:38.638783Z",
     "iopub.status.busy": "2021-04-13T22:56:38.637821Z",
     "iopub.status.idle": "2021-04-13T22:56:38.657859Z",
     "shell.execute_reply": "2021-04-13T22:56:38.658333Z"
    },
    "papermill": {
     "duration": 0.05224,
     "end_time": "2021-04-13T22:56:38.658520",
     "exception": false,
     "start_time": "2021-04-13T22:56:38.606280",
     "status": "completed"
    },
    "tags": []
   },
   "outputs": [
    {
     "data": {
      "text/plain": [
       "App                  0\n",
       "Category             0\n",
       "Rating            1474\n",
       "Reviews              0\n",
       "Size                 0\n",
       "Installs             0\n",
       "Type                 1\n",
       "Price                0\n",
       "Content Rating       1\n",
       "Genres               0\n",
       "Last Updated         0\n",
       "Current Ver          8\n",
       "Android Ver          3\n",
       "dtype: int64"
      ]
     },
     "execution_count": 8,
     "metadata": {},
     "output_type": "execute_result"
    }
   ],
   "source": [
    "df.isna().sum()\n",
    "# rating, type, content rating, current ver, android ver degiskenlerindeki kacar tane eksik vardir .. deger sayisi asagidaki gibidir..\n",
    "# burada eksik gozlemler hangi degiskenlere ait ve kacar adet onu goruntuluyoruz\n",
    "# df : veri setimiz \n",
    "# isna() : sorgulama yapti\n",
    "# sum ise toplam eksik deger sayisini verir\n",
    "# buradan elde edindigimiz bilgi -> eksik deger barindiran 5 adet ozniteligimiz var."
   ]
  },
  {
   "cell_type": "markdown",
   "id": "square-today",
   "metadata": {
    "papermill": {
     "duration": 0.028724,
     "end_time": "2021-04-13T22:56:38.716463",
     "exception": false,
     "start_time": "2021-04-13T22:56:38.687739",
     "status": "completed"
    },
    "tags": []
   },
   "source": [
    "Veri çerçevemizin Rating ve Install özniteliklerinin benzersiz değerlerini görüntüleyelim."
   ]
  },
  {
   "cell_type": "code",
   "execution_count": 9,
   "id": "disabled-journal",
   "metadata": {
    "execution": {
     "iopub.execute_input": "2021-04-13T22:56:38.777800Z",
     "iopub.status.busy": "2021-04-13T22:56:38.777068Z",
     "iopub.status.idle": "2021-04-13T22:56:38.784199Z",
     "shell.execute_reply": "2021-04-13T22:56:38.783496Z"
    },
    "papermill": {
     "duration": 0.038996,
     "end_time": "2021-04-13T22:56:38.784360",
     "exception": false,
     "start_time": "2021-04-13T22:56:38.745364",
     "status": "completed"
    },
    "tags": []
   },
   "outputs": [
    {
     "data": {
      "text/plain": [
       "array([ 4.1,  3.9,  4.7,  4.5,  4.3,  4.4,  3.8,  4.2,  4.6,  3.2,  4. ,\n",
       "        nan,  4.8,  4.9,  3.6,  3.7,  3.3,  3.4,  3.5,  3.1,  5. ,  2.6,\n",
       "        3. ,  1.9,  2.5,  2.8,  2.7,  1. ,  2.9,  2.3,  2.2,  1.7,  2. ,\n",
       "        1.8,  2.4,  1.6,  2.1,  1.4,  1.5,  1.2, 19. ])"
      ]
     },
     "execution_count": 9,
     "metadata": {},
     "output_type": "execute_result"
    }
   ],
   "source": [
    "df[\"Rating\"].unique()\n",
    "# hedef degiskenimiz rating degiskeni"
   ]
  },
  {
   "cell_type": "code",
   "execution_count": 10,
   "id": "worst-mediterranean",
   "metadata": {
    "execution": {
     "iopub.execute_input": "2021-04-13T22:56:38.850996Z",
     "iopub.status.busy": "2021-04-13T22:56:38.850372Z",
     "iopub.status.idle": "2021-04-13T22:56:38.858178Z",
     "shell.execute_reply": "2021-04-13T22:56:38.857652Z"
    },
    "papermill": {
     "duration": 0.042425,
     "end_time": "2021-04-13T22:56:38.858366",
     "exception": false,
     "start_time": "2021-04-13T22:56:38.815941",
     "status": "completed"
    },
    "tags": []
   },
   "outputs": [
    {
     "data": {
      "text/plain": [
       "array(['10,000+', '500,000+', '5,000,000+', '50,000,000+', '100,000+',\n",
       "       '50,000+', '1,000,000+', '10,000,000+', '5,000+', '100,000,000+',\n",
       "       '1,000,000,000+', '1,000+', '500,000,000+', '50+', '100+', '500+',\n",
       "       '10+', '1+', '5+', '0+', '0', 'Free'], dtype=object)"
      ]
     },
     "execution_count": 10,
     "metadata": {},
     "output_type": "execute_result"
    }
   ],
   "source": [
    "df[\"Installs\"].unique()"
   ]
  },
  {
   "cell_type": "markdown",
   "id": "spiritual-details",
   "metadata": {
    "papermill": {
     "duration": 0.030292,
     "end_time": "2021-04-13T22:56:38.919043",
     "exception": false,
     "start_time": "2021-04-13T22:56:38.888751",
     "status": "completed"
    },
    "tags": []
   },
   "source": [
    "Veri çerçevemizin Rating değişkeninin benzersiz kaç adet değer içerdiğini görüntüleyelim."
   ]
  },
  {
   "cell_type": "code",
   "execution_count": 11,
   "id": "organized-central",
   "metadata": {
    "execution": {
     "iopub.execute_input": "2021-04-13T22:56:38.983440Z",
     "iopub.status.busy": "2021-04-13T22:56:38.982746Z",
     "iopub.status.idle": "2021-04-13T22:56:38.991295Z",
     "shell.execute_reply": "2021-04-13T22:56:38.990570Z"
    },
    "papermill": {
     "duration": 0.042229,
     "end_time": "2021-04-13T22:56:38.991537",
     "exception": false,
     "start_time": "2021-04-13T22:56:38.949308",
     "status": "completed"
    },
    "tags": []
   },
   "outputs": [
    {
     "data": {
      "text/plain": [
       "40"
      ]
     },
     "execution_count": 11,
     "metadata": {},
     "output_type": "execute_result"
    }
   ],
   "source": [
    "df[\"Rating\"].nunique()"
   ]
  },
  {
   "cell_type": "markdown",
   "id": "affected-pharmacology",
   "metadata": {
    "papermill": {
     "duration": 0.030567,
     "end_time": "2021-04-13T22:56:39.053036",
     "exception": false,
     "start_time": "2021-04-13T22:56:39.022469",
     "status": "completed"
    },
    "tags": []
   },
   "source": [
    "Veri çerçevemizin ne kadar dengeli dağıldığını sorgulayalım."
   ]
  },
  {
   "cell_type": "code",
   "execution_count": 12,
   "id": "oriental-sucking",
   "metadata": {
    "execution": {
     "iopub.execute_input": "2021-04-13T22:56:39.121371Z",
     "iopub.status.busy": "2021-04-13T22:56:39.120630Z",
     "iopub.status.idle": "2021-04-13T22:56:39.209048Z",
     "shell.execute_reply": "2021-04-13T22:56:39.208317Z"
    },
    "papermill": {
     "duration": 0.125395,
     "end_time": "2021-04-13T22:56:39.209241",
     "exception": false,
     "start_time": "2021-04-13T22:56:39.083846",
     "status": "completed"
    },
    "tags": []
   },
   "outputs": [
    {
     "data": {
      "text/plain": [
       "App                                                 Category          Rating  Reviews  Size                Installs      Type  Price  Content Rating  Genres                       Last Updated        Current Ver                              Android Ver       \n",
       "CBS Sports App - Scores, News, Stats & Watch Live   SPORTS            4.3     91031    Varies with device  5,000,000+    Free  0      Everyone        Sports                       August 4, 2018      Varies with device                       5.0 and up            4\n",
       "Nick                                                ENTERTAINMENT     4.2     123279   25M                 10,000,000+   Free  0      Everyone 10+    Entertainment;Music & Video  January 24, 2018    2.0.8                                    4.4 and up            4\n",
       "Quizlet: Learn Languages & Vocab with Flashcards    EDUCATION         4.6     211856   Varies with device  10,000,000+   Free  0      Everyone        Education                    August 1, 2018      Varies with device                       Varies with device    4\n",
       "WatchESPN                                           SPORTS            4.1     288809   6.6M                10,000,000+   Free  0      Everyone        Sports                       September 27, 2017  2.5.1                                    4.4 and up            4\n",
       "eBay: Buy & Sell this Summer - Discover Deals Now!  SHOPPING          4.4     2788923  Varies with device  100,000,000+  Free  0      Teen            Shopping                     July 30, 2018       Varies with device                       Varies with device    4\n",
       "                                                                                                                                                                                                                                                                     ..\n",
       "Dress Up RagazzA13 DX                               FAMILY            3.5     13       42M                 100+          Paid  $0.99  Everyone        Simulation                   September 16, 2016  1.0.5                                    4.0.3 and up          1\n",
       "Dreamland Arcade - Steven Universe                  GAME              4.0     6386     24M                 500,000+      Free  0      Everyone        Arcade                       November 19, 2017   0.99                                     5.1 and up            1\n",
       "DreamTrips                                          TRAVEL_AND_LOCAL  4.7     9971     22M                 500,000+      Free  0      Teen            Travel & Local               August 6, 2018      1.28.1                                   5.0 and up            1\n",
       "DreamStream By EL AL                                TRAVEL_AND_LOCAL  3.4     595      22M                 100,000+      Free  0      Everyone        Travel & Local               January 18, 2016    3.4.20.6 / BuyDRM Labgency 4.8.22 / PED  4.0 and up            1\n",
       "🔥 Football Wallpapers 4K | Full HD Backgrounds 😍    ENTERTAINMENT     4.7     11661    4.0M                1,000,000+    Free  0      Everyone        Entertainment                July 14, 2018       1.1.3.2                                  4.0.3 and up          1\n",
       "Length: 8886, dtype: int64"
      ]
     },
     "execution_count": 12,
     "metadata": {},
     "output_type": "execute_result"
    }
   ],
   "source": [
    "df.value_counts()\n",
    "# bu sayede veri setimizdeki tum degiskenlerin icerisindeki siniflara ve bu siniflarin gozlenme frekanslarini(sikliklarini) bulduk.."
   ]
  },
  {
   "cell_type": "markdown",
   "id": "steady-giant",
   "metadata": {
    "papermill": {
     "duration": 0.037385,
     "end_time": "2021-04-13T22:56:39.294415",
     "exception": false,
     "start_time": "2021-04-13T22:56:39.257030",
     "status": "completed"
    },
    "tags": []
   },
   "source": [
    "Keman grafiği çizdirerek Rating değişkeninin dağılımını inceleyelim.\n",
    "\n",
    "Söz konusu dağılım bizim için ne ifade ediyor, normal bir dağılım olduğunu söyleyebilir miyiz?"
   ]
  },
  {
   "cell_type": "code",
   "execution_count": 13,
   "id": "finite-arcade",
   "metadata": {
    "execution": {
     "iopub.execute_input": "2021-04-13T22:56:39.363023Z",
     "iopub.status.busy": "2021-04-13T22:56:39.362360Z",
     "iopub.status.idle": "2021-04-13T22:56:39.570668Z",
     "shell.execute_reply": "2021-04-13T22:56:39.570085Z"
    },
    "papermill": {
     "duration": 0.245088,
     "end_time": "2021-04-13T22:56:39.570826",
     "exception": false,
     "start_time": "2021-04-13T22:56:39.325738",
     "status": "completed"
    },
    "tags": []
   },
   "outputs": [
    {
     "data": {
      "image/png": "[encoded data removed]",
      "text/plain": [
       "<Figure size 432x288 with 1 Axes>"
      ]
     },
     "metadata": {
      "needs_background": "light"
     },
     "output_type": "display_data"
    }
   ],
   "source": [
    "sns.violinplot(y = \"Rating\", data = df, color = \"aqua\");\n",
    "# normal bir dağılım soz konusu degildir..\n",
    "# veriler normal dagilmamislardir .."
   ]
  },
  {
   "cell_type": "markdown",
   "id": "caroline-division",
   "metadata": {
    "papermill": {
     "duration": 0.032641,
     "end_time": "2021-04-13T22:56:39.636545",
     "exception": false,
     "start_time": "2021-04-13T22:56:39.603904",
     "status": "completed"
    },
    "tags": []
   },
   "source": [
    "Daha iyi anlayabilmek için Rating üzerine bir distplot çizdirelim.\n",
    "\n"
   ]
  },
  {
   "cell_type": "code",
   "execution_count": 14,
   "id": "cooked-nepal",
   "metadata": {
    "execution": {
     "iopub.execute_input": "2021-04-13T22:56:39.706478Z",
     "iopub.status.busy": "2021-04-13T22:56:39.705714Z",
     "iopub.status.idle": "2021-04-13T22:56:39.967643Z",
     "shell.execute_reply": "2021-04-13T22:56:39.966984Z"
    },
    "papermill": {
     "duration": 0.29859,
     "end_time": "2021-04-13T22:56:39.967783",
     "exception": false,
     "start_time": "2021-04-13T22:56:39.669193",
     "status": "completed"
    },
    "tags": []
   },
   "outputs": [
    {
     "name": "stderr",
     "output_type": "stream",
     "text": [
      "/opt/conda/lib/python3.7/site-packages/seaborn/distributions.py:2557: FutureWarning: `distplot` is a deprecated function and will be removed in a future version. Please adapt your code to use either `displot` (a figure-level function with similar flexibility) or `histplot` (an axes-level function for histograms).\n",
      "  warnings.warn(msg, FutureWarning)\n"
     ]
    },
    {
     "data": {
      "image/png": "[encoded data removed]",
      "text/plain": [
       "<Figure size 432x288 with 1 Axes>"
      ]
     },
     "metadata": {
      "needs_background": "light"
     },
     "output_type": "display_data"
    }
   ],
   "source": [
    "sns.distplot(df[\"Rating\"], bins = 16, color = \"purple\");\n",
    "# displot -> dagilim gorsellestirmek icin kullanilan bir fonksiyon \n",
    "# gorsellestirmek istedigim degiskenleri ifade et diyor -> df in icerisindeki Rating degiskenimi gorsellestirmek istiyorum \n",
    "# bins degerinin 16 olmasi 16 cubuk oldugu anlamina gelir \n",
    "# extra : bins degeri kuculdukce burdaki kutularin genisliginin artmasini ve barindirdiklari degerlerin artmasini bekleriz"
   ]
  },
  {
   "cell_type": "markdown",
   "id": "powerful-subsection",
   "metadata": {
    "papermill": {
     "duration": 0.033002,
     "end_time": "2021-04-13T22:56:40.034164",
     "exception": false,
     "start_time": "2021-04-13T22:56:40.001162",
     "status": "completed"
    },
    "tags": []
   },
   "source": [
    "Hedef değişkenimizdeki Null değerler yerine ortalama değerler yazdıralım.\n",
    "\n",
    "Bunun için daha önce görüntülemiş olduğumuz temel istatistik değerleri tekrar görüntüleyelim.\n",
    "Çoğunluğun sahip olduğu Rating değerini Null alanlara yazdıralım.\n",
    "\n",
    "Daha sonra Rating değerinde Null değer kalmış mı kontrol edelim."
   ]
  },
  {
   "cell_type": "code",
   "execution_count": 15,
   "id": "offensive-submission",
   "metadata": {
    "execution": {
     "iopub.execute_input": "2021-04-13T22:56:40.108517Z",
     "iopub.status.busy": "2021-04-13T22:56:40.107871Z",
     "iopub.status.idle": "2021-04-13T22:56:40.123175Z",
     "shell.execute_reply": "2021-04-13T22:56:40.123679Z"
    },
    "papermill": {
     "duration": 0.055968,
     "end_time": "2021-04-13T22:56:40.123862",
     "exception": false,
     "start_time": "2021-04-13T22:56:40.067894",
     "status": "completed"
    },
    "tags": []
   },
   "outputs": [
    {
     "data": {
      "text/html": [
       "<div>\n",
       "<style scoped>\n",
       "    .dataframe tbody tr th:only-of-type {\n",
       "        vertical-align: middle;\n",
       "    }\n",
       "\n",
       "    .dataframe tbody tr th {\n",
       "        vertical-align: top;\n",
       "    }\n",
       "\n",
       "    .dataframe thead th {\n",
       "        text-align: right;\n",
       "    }\n",
       "</style>\n",
       "<table border=\"1\" class=\"dataframe\">\n",
       "  <thead>\n",
       "    <tr style=\"text-align: right;\">\n",
       "      <th></th>\n",
       "      <th>count</th>\n",
       "      <th>mean</th>\n",
       "      <th>std</th>\n",
       "      <th>min</th>\n",
       "      <th>25%</th>\n",
       "      <th>50%</th>\n",
       "      <th>75%</th>\n",
       "      <th>max</th>\n",
       "    </tr>\n",
       "  </thead>\n",
       "  <tbody>\n",
       "    <tr>\n",
       "      <th>Rating</th>\n",
       "      <td>9367.0</td>\n",
       "      <td>4.193338</td>\n",
       "      <td>0.537431</td>\n",
       "      <td>1.0</td>\n",
       "      <td>4.0</td>\n",
       "      <td>4.3</td>\n",
       "      <td>4.5</td>\n",
       "      <td>19.0</td>\n",
       "    </tr>\n",
       "  </tbody>\n",
       "</table>\n",
       "</div>"
      ],
      "text/plain": [
       "         count      mean       std  min  25%  50%  75%   max\n",
       "Rating  9367.0  4.193338  0.537431  1.0  4.0  4.3  4.5  19.0"
      ]
     },
     "execution_count": 15,
     "metadata": {},
     "output_type": "execute_result"
    }
   ],
   "source": [
    "df.describe().T"
   ]
  },
  {
   "cell_type": "code",
   "execution_count": 16,
   "id": "allied-blogger",
   "metadata": {
    "execution": {
     "iopub.execute_input": "2021-04-13T22:56:40.196027Z",
     "iopub.status.busy": "2021-04-13T22:56:40.195361Z",
     "iopub.status.idle": "2021-04-13T22:56:40.204092Z",
     "shell.execute_reply": "2021-04-13T22:56:40.203478Z"
    },
    "papermill": {
     "duration": 0.046443,
     "end_time": "2021-04-13T22:56:40.204272",
     "exception": false,
     "start_time": "2021-04-13T22:56:40.157829",
     "status": "completed"
    },
    "tags": []
   },
   "outputs": [
    {
     "data": {
      "text/plain": [
       "Int64Index([   23,   113,   123,   126,   129,   130,   134,   163,   180,\n",
       "              185,\n",
       "            ...\n",
       "            10816, 10818, 10821, 10822, 10823, 10824, 10825, 10831, 10835,\n",
       "            10838],\n",
       "           dtype='int64', length=1474)"
      ]
     },
     "execution_count": 16,
     "metadata": {},
     "output_type": "execute_result"
    }
   ],
   "source": [
    "eksik_deger_rating = df[df[\"Rating\"].isnull()].index\n",
    "eksik_deger_rating"
   ]
  },
  {
   "cell_type": "code",
   "execution_count": 17,
   "id": "expressed-constraint",
   "metadata": {
    "execution": {
     "iopub.execute_input": "2021-04-13T22:56:40.278836Z",
     "iopub.status.busy": "2021-04-13T22:56:40.277978Z",
     "iopub.status.idle": "2021-04-13T22:56:40.284274Z",
     "shell.execute_reply": "2021-04-13T22:56:40.284759Z"
    },
    "papermill": {
     "duration": 0.045118,
     "end_time": "2021-04-13T22:56:40.284939",
     "exception": false,
     "start_time": "2021-04-13T22:56:40.239821",
     "status": "completed"
    },
    "tags": []
   },
   "outputs": [],
   "source": [
    "df.loc[eksik_deger_rating, \"Rating\"] = 4.193338\n",
    "# bu asamada rating degiskenindeki null degerleri yerine, rating degiskeninin ortalama degerini atadim"
   ]
  },
  {
   "cell_type": "code",
   "execution_count": 18,
   "id": "liable-chaos",
   "metadata": {
    "execution": {
     "iopub.execute_input": "2021-04-13T22:56:40.357728Z",
     "iopub.status.busy": "2021-04-13T22:56:40.357090Z",
     "iopub.status.idle": "2021-04-13T22:56:40.379010Z",
     "shell.execute_reply": "2021-04-13T22:56:40.378429Z"
    },
    "papermill": {
     "duration": 0.059403,
     "end_time": "2021-04-13T22:56:40.379153",
     "exception": false,
     "start_time": "2021-04-13T22:56:40.319750",
     "status": "completed"
    },
    "tags": []
   },
   "outputs": [
    {
     "data": {
      "text/plain": [
       "App               0\n",
       "Category          0\n",
       "Rating            0\n",
       "Reviews           0\n",
       "Size              0\n",
       "Installs          0\n",
       "Type              1\n",
       "Price             0\n",
       "Content Rating    1\n",
       "Genres            0\n",
       "Last Updated      0\n",
       "Current Ver       8\n",
       "Android Ver       3\n",
       "dtype: int64"
      ]
     },
     "execution_count": 18,
     "metadata": {},
     "output_type": "execute_result"
    }
   ],
   "source": [
    "df.isna().sum()"
   ]
  },
  {
   "cell_type": "markdown",
   "id": "renewable-beijing",
   "metadata": {
    "papermill": {
     "duration": 0.036028,
     "end_time": "2021-04-13T22:56:40.450462",
     "exception": false,
     "start_time": "2021-04-13T22:56:40.414434",
     "status": "completed"
    },
    "tags": []
   },
   "source": [
    "Category özniteliğine göre bir gruplama işlemi yapalım ve görselleştirelim."
   ]
  },
  {
   "cell_type": "code",
   "execution_count": 19,
   "id": "trained-civilian",
   "metadata": {
    "execution": {
     "iopub.execute_input": "2021-04-13T22:56:40.524055Z",
     "iopub.status.busy": "2021-04-13T22:56:40.523405Z",
     "iopub.status.idle": "2021-04-13T22:56:40.928960Z",
     "shell.execute_reply": "2021-04-13T22:56:40.928423Z"
    },
    "papermill": {
     "duration": 0.443518,
     "end_time": "2021-04-13T22:56:40.929107",
     "exception": false,
     "start_time": "2021-04-13T22:56:40.485589",
     "status": "completed"
    },
    "tags": []
   },
   "outputs": [
    {
     "data": {
      "image/png": "[encoded data removed]",
      "text/plain": [
       "<Figure size 432x288 with 1 Axes>"
      ]
     },
     "metadata": {
      "needs_background": "light"
     },
     "output_type": "display_data"
    }
   ],
   "source": [
    "df[\"Category\"].value_counts().plot(kind = \"bar\");\n",
    "plt.title(\"Count/ Category\");\n",
    "# grafigin basligini olusturur\n",
    "plt.xlabel(\"Category\");\n",
    "# x ekseninin basligini olusturur\n",
    "plt.ylabel(\"Count\");\n",
    "# y ekseninin basligini olusturur"
   ]
  },
  {
   "cell_type": "markdown",
   "id": "particular-metabolism",
   "metadata": {
    "papermill": {
     "duration": 0.037004,
     "end_time": "2021-04-13T22:56:41.003628",
     "exception": false,
     "start_time": "2021-04-13T22:56:40.966624",
     "status": "completed"
    },
    "tags": []
   },
   "source": [
    "Her Kategorideki ortalama Rating oranlarını hesaplayalım ve görselleştirelim."
   ]
  },
  {
   "cell_type": "code",
   "execution_count": 20,
   "id": "private-somewhere",
   "metadata": {
    "execution": {
     "iopub.execute_input": "2021-04-13T22:56:41.085054Z",
     "iopub.status.busy": "2021-04-13T22:56:41.084078Z",
     "iopub.status.idle": "2021-04-13T22:56:41.091992Z",
     "shell.execute_reply": "2021-04-13T22:56:41.092475Z"
    },
    "papermill": {
     "duration": 0.051808,
     "end_time": "2021-04-13T22:56:41.092655",
     "exception": false,
     "start_time": "2021-04-13T22:56:41.040847",
     "status": "completed"
    },
    "tags": []
   },
   "outputs": [
    {
     "data": {
      "text/plain": [
       "Category\n",
       "1.9                    19.000000\n",
       "ART_AND_DESIGN          4.350462\n",
       "AUTO_AND_VEHICLES       4.190824\n",
       "BEAUTY                  4.260881\n",
       "BOOKS_AND_REFERENCE     4.311026\n",
       "BUSINESS                4.145987\n",
       "COMICS                  4.156445\n",
       "COMMUNICATION           4.163842\n",
       "DATING                  4.007864\n",
       "EDUCATION               4.387778\n",
       "ENTERTAINMENT           4.126174\n",
       "EVENTS                  4.363647\n",
       "FAMILY                  4.192394\n",
       "FINANCE                 4.139108\n",
       "FOOD_AND_DRINK          4.170709\n",
       "GAME                    4.282506\n",
       "HEALTH_AND_FITNESS      4.266296\n",
       "HOUSE_AND_HOME          4.196819\n",
       "LIBRARIES_AND_DEMO      4.181962\n",
       "LIFESTYLE               4.112427\n",
       "MAPS_AND_NAVIGATION     4.065061\n",
       "MEDICAL                 4.190167\n",
       "NEWS_AND_MAGAZINES      4.142993\n",
       "PARENTING               4.282223\n",
       "PERSONALIZATION         4.307603\n",
       "PHOTOGRAPHY             4.192179\n",
       "PRODUCTIVITY            4.208287\n",
       "SHOPPING                4.254052\n",
       "SOCIAL                  4.248001\n",
       "SPORTS                  4.218404\n",
       "TOOLS                   4.066280\n",
       "TRAVEL_AND_LOCAL        4.119716\n",
       "VIDEO_PLAYERS           4.074858\n",
       "WEATHER                 4.239675\n",
       "Name: Rating, dtype: float64"
      ]
     },
     "execution_count": 20,
     "metadata": {},
     "output_type": "execute_result"
    }
   ],
   "source": [
    "df.groupby([\"Category\"])[\"Rating\"].mean()\n",
    "# burada bir kategorik degiskenim mevcut : Category\n",
    "# ilk olarak Category e gore grupladi ve sonrasinda bunun sonucuna gore Rating degiskenimizin ort degerini hesapladi"
   ]
  },
  {
   "cell_type": "code",
   "execution_count": 21,
   "id": "settled-alliance",
   "metadata": {
    "execution": {
     "iopub.execute_input": "2021-04-13T22:56:41.170448Z",
     "iopub.status.busy": "2021-04-13T22:56:41.169722Z",
     "iopub.status.idle": "2021-04-13T22:56:41.539920Z",
     "shell.execute_reply": "2021-04-13T22:56:41.540473Z"
    },
    "papermill": {
     "duration": 0.410994,
     "end_time": "2021-04-13T22:56:41.540648",
     "exception": false,
     "start_time": "2021-04-13T22:56:41.129654",
     "status": "completed"
    },
    "tags": []
   },
   "outputs": [
    {
     "data": {
      "image/png": "[encoded data removed]",
      "text/plain": [
       "<Figure size 432x288 with 1 Axes>"
      ]
     },
     "metadata": {
      "needs_background": "light"
     },
     "output_type": "display_data"
    }
   ],
   "source": [
    "df.groupby(\"Category\")[\"Rating\"].mean().plot(kind = \"bar\");\n",
    "plt.title(\"Her Kategorideki Ortalama Rating Oranlari\");\n",
    "# grafigin basligini olusturur\n",
    "plt.xlabel(\"Category\");\n",
    "# x ekseninin basligini olusturur\n",
    "plt.ylabel(\"Ortalama Rating Degerleri\");\n",
    "# y ekseninin basligini olusturur"
   ]
  },
  {
   "cell_type": "markdown",
   "id": "cooperative-duplicate",
   "metadata": {
    "papermill": {
     "duration": 0.038621,
     "end_time": "2021-04-13T22:56:41.618819",
     "exception": false,
     "start_time": "2021-04-13T22:56:41.580198",
     "status": "completed"
    },
    "tags": []
   },
   "source": [
    "Her kategorinin yüklenme oranlarını hesaplayalım. En çok yüklenen ilk 15 kategoriyi görselleştirerek gösterelim."
   ]
  },
  {
   "cell_type": "code",
   "execution_count": 22,
   "id": "undefined-barcelona",
   "metadata": {
    "execution": {
     "iopub.execute_input": "2021-04-13T22:56:41.706575Z",
     "iopub.status.busy": "2021-04-13T22:56:41.705884Z",
     "iopub.status.idle": "2021-04-13T22:56:41.708891Z",
     "shell.execute_reply": "2021-04-13T22:56:41.709356Z"
    },
    "papermill": {
     "duration": 0.052078,
     "end_time": "2021-04-13T22:56:41.709533",
     "exception": false,
     "start_time": "2021-04-13T22:56:41.657455",
     "status": "completed"
    },
    "tags": []
   },
   "outputs": [
    {
     "data": {
      "text/plain": [
       "FAMILY                 1972\n",
       "GAME                   1144\n",
       "TOOLS                   843\n",
       "MEDICAL                 463\n",
       "BUSINESS                460\n",
       "PRODUCTIVITY            424\n",
       "PERSONALIZATION         392\n",
       "COMMUNICATION           387\n",
       "SPORTS                  384\n",
       "LIFESTYLE               382\n",
       "FINANCE                 366\n",
       "HEALTH_AND_FITNESS      341\n",
       "PHOTOGRAPHY             335\n",
       "SOCIAL                  295\n",
       "NEWS_AND_MAGAZINES      283\n",
       "SHOPPING                260\n",
       "TRAVEL_AND_LOCAL        258\n",
       "DATING                  234\n",
       "BOOKS_AND_REFERENCE     231\n",
       "VIDEO_PLAYERS           175\n",
       "EDUCATION               156\n",
       "ENTERTAINMENT           149\n",
       "MAPS_AND_NAVIGATION     137\n",
       "FOOD_AND_DRINK          127\n",
       "HOUSE_AND_HOME           88\n",
       "AUTO_AND_VEHICLES        85\n",
       "LIBRARIES_AND_DEMO       85\n",
       "WEATHER                  82\n",
       "ART_AND_DESIGN           65\n",
       "EVENTS                   64\n",
       "PARENTING                60\n",
       "COMICS                   60\n",
       "BEAUTY                   53\n",
       "1.9                       1\n",
       "Name: Category, dtype: int64"
      ]
     },
     "execution_count": 22,
     "metadata": {},
     "output_type": "execute_result"
    }
   ],
   "source": [
    "df[\"Category\"].value_counts()"
   ]
  },
  {
   "cell_type": "code",
   "execution_count": 23,
   "id": "administrative-diesel",
   "metadata": {
    "execution": {
     "iopub.execute_input": "2021-04-13T22:56:41.792003Z",
     "iopub.status.busy": "2021-04-13T22:56:41.791268Z",
     "iopub.status.idle": "2021-04-13T22:56:42.029704Z",
     "shell.execute_reply": "2021-04-13T22:56:42.030187Z"
    },
    "papermill": {
     "duration": 0.281473,
     "end_time": "2021-04-13T22:56:42.030387",
     "exception": false,
     "start_time": "2021-04-13T22:56:41.748914",
     "status": "completed"
    },
    "tags": []
   },
   "outputs": [
    {
     "data": {
      "image/png": "[encoded data removed]",
      "text/plain": [
       "<Figure size 432x288 with 1 Axes>"
      ]
     },
     "metadata": {
      "needs_background": "light"
     },
     "output_type": "display_data"
    }
   ],
   "source": [
    "# plt.figure(figsize=(8, 15));\n",
    "# figsize fonk. grafigin boyutunu belirler\n",
    "df[\"Category\"].value_counts().head(15).plot(kind=\"bar\");\n",
    "plt.title(\"Top 15 Most Uploaded Categories\");\n",
    "plt.xlabel(\"Category\");\n",
    "plt.ylabel(\"Installs\");"
   ]
  },
  {
   "cell_type": "markdown",
   "id": "detected-confidentiality",
   "metadata": {
    "papermill": {
     "duration": 0.040639,
     "end_time": "2021-04-13T22:56:42.112549",
     "exception": false,
     "start_time": "2021-04-13T22:56:42.071910",
     "status": "completed"
    },
    "tags": []
   },
   "source": [
    "En çok sayıda yüklenmiş ilk 10 uygulamayı bulalım ve görselleştirelim."
   ]
  },
  {
   "cell_type": "code",
   "execution_count": 24,
   "id": "freelance-insider",
   "metadata": {
    "execution": {
     "iopub.execute_input": "2021-04-13T22:56:42.198221Z",
     "iopub.status.busy": "2021-04-13T22:56:42.197531Z",
     "iopub.status.idle": "2021-04-13T22:56:42.394003Z",
     "shell.execute_reply": "2021-04-13T22:56:42.394475Z"
    },
    "papermill": {
     "duration": 0.241314,
     "end_time": "2021-04-13T22:56:42.394659",
     "exception": false,
     "start_time": "2021-04-13T22:56:42.153345",
     "status": "completed"
    },
    "tags": []
   },
   "outputs": [
    {
     "data": {
      "image/png": "[encoded data removed]",
      "text/plain": [
       "<Figure size 432x288 with 1 Axes>"
      ]
     },
     "metadata": {
      "needs_background": "light"
     },
     "output_type": "display_data"
    }
   ],
   "source": [
    "df[\"App\"].value_counts().head(10).plot(kind=\"bar\");\n",
    "plt.title(\"Top 10 Most Uploaded Apps\");\n",
    "# grafigin basligini olusturur\n",
    "plt.xlabel(\"App\");\n",
    "# x ekseninin basligini olusturur\n",
    "plt.ylabel(\"Installs\");\n",
    "# y ekseninin basligini olusturur"
   ]
  }
 ],
 "metadata": {
  "kernelspec": {
   "display_name": "Python 3",
   "language": "python",
   "name": "python3"
  },
  "language_info": {
   "codemirror_mode": {
    "name": "ipython",
    "version": 3
   },
   "file_extension": ".py",
   "mimetype": "text/x-python",
   "name": "python",
   "nbconvert_exporter": "python",
   "pygments_lexer": "ipython3",
   "version": "3.7.9"
  },
  "papermill": {
   "default_parameters": {},
   "duration": 13.729321,
   "end_time": "2021-04-13T22:56:43.147518",
   "environment_variables": {},
   "exception": null,
   "input_path": "__notebook__.ipynb",
   "output_path": "__notebook__.ipynb",
   "parameters": {},
   "start_time": "2021-04-13T22:56:29.418197",
   "version": "2.3.2"
  }
 },
 "nbformat": 4,
 "nbformat_minor": 5
}
